{
 "cells": [
  {
   "cell_type": "markdown",
   "metadata": {},
   "source": [
    "# Your first plot"
   ]
  },
  {
   "cell_type": "markdown",
   "metadata": {},
   "source": [
    "There are many options and outputs available in `hmf`, and you can find more details of those in other tutorials or even the API documentation. In this tutorial however, we'll just show how to create a HMF with the most commonly required options. For those unfamiliar with Python, we'll also give a concrete example of how to make a plot with this data.\n",
    "\n",
    "First, we need to import the relevant libraries:"
   ]
  },
  {
   "cell_type": "code",
   "execution_count": 2,
   "metadata": {
    "ExecuteTime": {
     "end_time": "2016-12-12T08:22:28.830840",
     "start_time": "2016-12-12T08:22:28.795749"
    },
    "collapsed": false
   },
   "outputs": [],
   "source": [
    "from hmf import MassFunction     # The main hmf class\n",
    "import matplotlib.pyplot as plt  # The necessary plotting library\n",
    "\n",
    "# This just serves to render plots inline in the notebook. Do not use in a script.\n",
    "%matplotlib inline               "
   ]
  },
  {
   "cell_type": "markdown",
   "metadata": {},
   "source": [
    "Since everything has a default, we can easily just create our object with no arguments:"
   ]
  },
  {
   "cell_type": "code",
   "execution_count": 3,
   "metadata": {
    "ExecuteTime": {
     "end_time": "2016-12-12T08:23:23.336818",
     "start_time": "2016-12-12T08:23:23.330412"
    },
    "collapsed": true
   },
   "outputs": [],
   "source": [
    "mf = MassFunction()"
   ]
  },
  {
   "cell_type": "markdown",
   "metadata": {},
   "source": [
    "Now we have an object with many options and parameters stored inside, ready to calculate quantities that we require on demand."
   ]
  },
  {
   "cell_type": "code",
   "execution_count": 15,
   "metadata": {
    "ExecuteTime": {
     "end_time": "2016-12-12T08:34:36.034567",
     "start_time": "2016-12-12T08:34:36.018337"
    },
    "collapsed": false
   },
   "outputs": [
    {
     "data": {
      "text/plain": [
       "{'_dlnsdlnm': False,\n",
       " '_normalisation': False,\n",
       " '_sigma_0': False,\n",
       " '_unn_sig8': False,\n",
       " '_unn_sigma0': False,\n",
       " '_unnormalised_lnT': False,\n",
       " '_unnormalised_power': False,\n",
       " 'cosmo': False,\n",
       " 'delta_halo': False,\n",
       " 'dndm': False,\n",
       " 'filter': False,\n",
       " 'fsigma': False,\n",
       " 'growth': False,\n",
       " 'growth_factor': False,\n",
       " 'hmf': False,\n",
       " 'k': False,\n",
       " 'm': False,\n",
       " 'mean_density0': False,\n",
       " 'n_eff': False,\n",
       " 'nu': False,\n",
       " 'radii': False,\n",
       " 'sigma': False,\n",
       " 'transfer': False}"
      ]
     },
     "execution_count": 15,
     "metadata": {},
     "output_type": "execute_result"
    }
   ],
   "source": [
    "mf._Cache__recalc"
   ]
  },
  {
   "cell_type": "code",
   "execution_count": 13,
   "metadata": {
    "ExecuteTime": {
     "end_time": "2016-12-12T08:33:57.580623",
     "start_time": "2016-12-12T08:33:57.571225"
    },
    "collapsed": false
   },
   "outputs": [
    {
     "name": "stdout",
     "output_type": "stream",
     "text": [
      "Mmax\n",
      "Mmin\n",
      "filter_model\n",
      "hmf_params\n",
      "hmf_model\n",
      "delta_wrt\n",
      "delta_h\n",
      "delta_c\n",
      "filter_params\n",
      "dlog10m\n"
     ]
    }
   ],
   "source": [
    "for name in mf.get_all_parameter_names():\n",
    "    print name"
   ]
  },
  {
   "cell_type": "code",
   "execution_count": 6,
   "metadata": {
    "ExecuteTime": {
     "end_time": "2016-12-12T08:25:25.800852",
     "start_time": "2016-12-12T08:25:25.798334"
    },
    "collapsed": false
   },
   "outputs": [
    {
     "name": "stdout",
     "output_type": "stream",
     "text": [
      "Mmax : float\n",
      "    Maximum mass at which to perform analysis [units :math:`\\log_{10}M_\\odot h^{-1}`].\n",
      "\n",
      "Mmin : float\n",
      "    Minimum mass at which to perform analysis [units :math:`\\log_{10}M_\\odot h^{-1}`].\n",
      "\n",
      "filter_model : str or :class:`hmf.filters.Filter` subclass\n",
      "    A model for the window/filter function.\n",
      "\n",
      "hmf_params : dict\n",
      "    Model parameters for `hmf_model`.\n",
      "\n",
      "hmf_model : str or `hmf.fitting_functions.FittingFunction` subclass\n",
      "    A model to use as the fitting function :math:`f(\\sigma)`\n",
      "\n",
      "delta_wrt : str, {\"mean\", \"crit\"}\n",
      "    Defines what the overdensity of a halo is with respect to, mean density\n",
      "    of the universe, or critical density.\n",
      "\n",
      "delta_h : float\n",
      "    The overdensity for the halo definition, with respect to :attr:`delta_wrt`\n",
      "\n",
      "delta_c : float\n",
      "    The critical overdensity for collapse, :math:`\\delta_c`.\n",
      "\n",
      "filter_params : dict\n",
      "    Model parameters for `filter_model`.\n",
      "\n",
      "dlog10m : float\n",
      "    log10 interval between mass bins\n",
      "\n"
     ]
    }
   ],
   "source": [
    "mf.parameter_info()"
   ]
  },
  {
   "cell_type": "code",
   "execution_count": null,
   "metadata": {
    "collapsed": true
   },
   "outputs": [],
   "source": []
  }
 ],
 "metadata": {
  "anaconda-cloud": {},
  "kernelspec": {
   "display_name": "Python [default]",
   "language": "python",
   "name": "python2"
  },
  "language_info": {
   "codemirror_mode": {
    "name": "ipython",
    "version": 2
   },
   "file_extension": ".py",
   "mimetype": "text/x-python",
   "name": "python",
   "nbconvert_exporter": "python",
   "pygments_lexer": "ipython2",
   "version": "2.7.12"
  },
  "latex_envs": {
   "bibliofile": "biblio.bib",
   "cite_by": "apalike",
   "current_citInitial": 1,
   "eqLabelWithNumbers": true,
   "eqNumInitial": 0
  },
  "nav_menu": {},
  "toc": {
   "navigate_menu": true,
   "number_sections": true,
   "sideBar": true,
   "threshold": 6,
   "toc_cell": false,
   "toc_section_display": "block",
   "toc_window_display": true
  }
 },
 "nbformat": 4,
 "nbformat_minor": 1
}
